{
  "nbformat": 4,
  "nbformat_minor": 0,
  "metadata": {
    "colab": {
      "name": "SentimentAnalysis.ipynb",
      "provenance": []
    },
    "kernelspec": {
      "name": "python3",
      "display_name": "Python 3"
    },
    "language_info": {
      "name": "python"
    }
  },
  "cells": [
    {
      "cell_type": "code",
      "execution_count": null,
      "metadata": {
        "id": "EodzilSkMXUd",
        "colab": {
          "base_uri": "https://localhost:8080/"
        },
        "outputId": "63f6d8a9-d9e4-45dd-ec35-cec58ed1bdf4"
      },
      "outputs": [
        {
          "output_type": "stream",
          "name": "stdout",
          "text": [
            "sadness\n",
            "😔\n",
            "[[0.18306055 0.14440672 0.12141269 0.1727912  0.07693253 0.18338373\n",
            "  0.00397354 0.11403906]]\n"
          ]
        }
      ],
      "source": [
        "import joblib \n",
        "pipe_lr = joblib.load(open(\"/content/emotion_classifier_pipe_lr_03_june_2021.pkl\",\"rb\"))\n",
        "emotions_emoji_dict = {\"anger\":\"😠\",\"disgust\":\"🤮\", \"fear\":\"😨😱\", \"happy\":\"🤗\", \"joy\":\"😂\", \"neutral\":\"😐\", \"sad\":\"😔\", \"sadness\":\"😔\", \"shame\":\"😳\", \"surprise\":\"😮\"}\n",
        "sample=[\"I believe that the murderer of garvit murder case is jatin rawat\"]\n",
        "print(pipe_lr.predict(sample)[0])\n",
        "print(emotions_emoji_dict[pipe_lr.predict(sample)[0]])\n",
        "print(pipe_lr.predict_proba(sample))"
      ]
    },
    {
      "cell_type": "code",
      "source": [],
      "metadata": {
        "id": "1f3GTpWeMzna"
      },
      "execution_count": null,
      "outputs": []
    }
  ]
}