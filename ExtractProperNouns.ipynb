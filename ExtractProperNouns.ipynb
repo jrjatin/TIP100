{
  "nbformat": 4,
  "nbformat_minor": 0,
  "metadata": {
    "colab": {
      "name": "ExtractProperNouns.ipynb",
      "provenance": []
    },
    "kernelspec": {
      "name": "python3",
      "display_name": "Python 3"
    },
    "language_info": {
      "name": "python"
    }
  },
  "cells": [
    {
      "cell_type": "code",
      "source": [
        "nltk.download('averaged_perceptron_tagger')"
      ],
      "metadata": {
        "colab": {
          "base_uri": "https://localhost:8080/"
        },
        "id": "T88u-W12AmkY",
        "outputId": "7acb63b7-c7af-4e2f-b98b-e1795f021ab1"
      },
      "execution_count": null,
      "outputs": [
        {
          "output_type": "stream",
          "name": "stderr",
          "text": [
            "[nltk_data] Downloading package averaged_perceptron_tagger to\n",
            "[nltk_data]     /root/nltk_data...\n",
            "[nltk_data]   Unzipping taggers/averaged_perceptron_tagger.zip.\n"
          ]
        },
        {
          "output_type": "execute_result",
          "data": {
            "text/plain": [
              "True"
            ]
          },
          "metadata": {},
          "execution_count": 12
        }
      ]
    },
    {
      "cell_type": "code",
      "source": [
        "nltk.download('stopwords')"
      ],
      "metadata": {
        "colab": {
          "base_uri": "https://localhost:8080/"
        },
        "id": "fkVy9DMrAbvt",
        "outputId": "7101c9c4-e451-4769-c414-1c22fea6e6bb"
      },
      "execution_count": null,
      "outputs": [
        {
          "output_type": "stream",
          "name": "stderr",
          "text": [
            "[nltk_data] Downloading package stopwords to /root/nltk_data...\n",
            "[nltk_data]   Unzipping corpora/stopwords.zip.\n"
          ]
        },
        {
          "output_type": "execute_result",
          "data": {
            "text/plain": [
              "True"
            ]
          },
          "metadata": {},
          "execution_count": 8
        }
      ]
    },
    {
      "cell_type": "code",
      "source": [
        "nltk.download('punkt')"
      ],
      "metadata": {
        "colab": {
          "base_uri": "https://localhost:8080/"
        },
        "id": "TGwfSn-FAbq5",
        "outputId": "217aea2e-b960-4fa5-ad92-fe7ce076bd2f"
      },
      "execution_count": null,
      "outputs": [
        {
          "output_type": "stream",
          "name": "stderr",
          "text": [
            "[nltk_data] Downloading package punkt to /root/nltk_data...\n",
            "[nltk_data]   Unzipping tokenizers/punkt.zip.\n"
          ]
        },
        {
          "output_type": "execute_result",
          "data": {
            "text/plain": [
              "True"
            ]
          },
          "metadata": {},
          "execution_count": 4
        }
      ]
    },
    {
      "cell_type": "code",
      "execution_count": null,
      "metadata": {
        "id": "d0-WTN5VAKb0"
      },
      "outputs": [],
      "source": [
        "# Importing the required libraries\n",
        "import nltk \n",
        "from nltk.corpus import stopwords \n",
        "from nltk.tokenize import word_tokenize, sent_tokenize"
      ]
    },
    {
      "cell_type": "code",
      "source": [
        "# Function to extract the proper nouns \n",
        "\n",
        "def ProperNounExtractor(text):\n",
        "    \n",
        "    print('PROPER NOUNS EXTRACTED :')\n",
        "    \n",
        "    sentences = nltk.sent_tokenize(text)\n",
        "    for sentence in sentences:\n",
        "        words = nltk.word_tokenize(sentence)\n",
        "        words = [word for word in words if word not in set(stopwords.words('english'))]\n",
        "        tagged = nltk.pos_tag(words)\n",
        "        for (word, tag) in tagged:\n",
        "            if tag == 'NNP': # If the word is a proper noun\n",
        "                print(word)"
      ],
      "metadata": {
        "id": "vVZAT_TzAOKQ"
      },
      "execution_count": null,
      "outputs": []
    },
    {
      "cell_type": "code",
      "source": [
        "text =  \"Rohan is a wonderful player. He was born in India. He is a fan of the movie Wolverine. He has a dog named Bruno.\"\n",
        "\n",
        "# Calling the ProperNounExtractor function to extract all the proper nouns from the given text. \n",
        "ProperNounExtractor(text)"
      ],
      "metadata": {
        "colab": {
          "base_uri": "https://localhost:8080/"
        },
        "id": "fhxQWIHHAWOp",
        "outputId": "cdd2f63f-db78-4f45-aab2-d449789e10ba"
      },
      "execution_count": null,
      "outputs": [
        {
          "output_type": "stream",
          "name": "stdout",
          "text": [
            "PROPER NOUNS EXTRACTED :\n",
            "Rohan\n",
            "India\n",
            "Wolverine\n",
            "Bruno\n"
          ]
        }
      ]
    },
    {
      "cell_type": "code",
      "source": [],
      "metadata": {
        "id": "upPQUlrHAXkF"
      },
      "execution_count": null,
      "outputs": []
    }
  ]
}